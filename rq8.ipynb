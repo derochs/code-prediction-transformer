{
 "cells": [
  {
   "cell_type": "markdown",
   "metadata": {},
   "source": [
    "# RQ8: Does positional encoding improve the performance of the model?\n",
    "\n",
    "- Edit model\n",
    "- Train model\n",
    "- Evaluate model\n",
    "- Compare with RQ1"
   ]
  },
  {
   "cell_type": "code",
   "execution_count": 2,
   "metadata": {},
   "outputs": [],
   "source": [
    "import pickle\n",
    "\n",
    "value_scores = {\n",
    "    \"attr_ids\": {\n",
    "        \"t_score\": [0.99],\n",
    "        \"v_score\": [0.43],\n",
    "        \"label\": \"Attribute Access\"\n",
    "    },\n",
    "    \"num_ids\": {\n",
    "        \"t_score\": [0.67],\n",
    "        \"v_score\": [0.6],\n",
    "        \"label\": \"Numeric Constant\"\n",
    "    },\n",
    "    \"name_ids\": {\n",
    "        \"t_score\": [0.92],\n",
    "        \"v_score\": [0.56],\n",
    "        \"label\": \"Variable Name/Module Name\"\n",
    "    },\n",
    "    \"param_ids\": {\n",
    "        \"t_score\": [0.92],\n",
    "        \"v_score\": [0.59],\n",
    "        \"label\": \"Function Parameter Name\"\n",
    "    },\n",
    "    \"string_ids\": {\n",
    "        \"t_score\": [0.84],\n",
    "        \"v_score\": [0.13],\n",
    "        \"label\": \"Strings\"\n",
    "    }\n",
    "}\n",
    "type_scores = {\n",
    "    \"call_ids\": {\n",
    "        \"score\": [0.45],\n",
    "        \"label\": \"Function Call\"\n",
    "    },\n",
    "    \"assign_ids\": {\n",
    "        \"score\": [0.53],\n",
    "        \"label\": \"Assignment\"\n",
    "    },\n",
    "    \"return_ids\": {\n",
    "        \"score\": [0.59],\n",
    "        \"label\": \"Return\"\n",
    "    },\n",
    "    \"list_ids\": {\n",
    "        \"score\": [0.27],\n",
    "        \"label\": \"List\"\n",
    "    },\n",
    "    \"dict_ids\": {\n",
    "        \"score\": [0.19],\n",
    "        \"label\": \"Dictionary\"\n",
    "    },\n",
    "    \"raise_ids\": {\n",
    "        \"score\": [0.78],\n",
    "        \"label\": \"Raise\"\n",
    "    }\n",
    "}\n",
    "\n",
    "with open(\"rq8/scores.pkl\", \"wb\") as fout:\n",
    "    pickle.dump({\"value_scores\": value_scores, \"type_scores\": type_scores}, fout)\n"
   ]
  },
  {
   "cell_type": "code",
   "execution_count": 3,
   "metadata": {},
   "outputs": [],
   "source": [
    "rq8 = pickle.load(open(\"rq8/scores.pkl\", \"rb\"))\n",
    "rq1 = pickle.load(open(\"rq1/scores.pkl\", \"rb\"))"
   ]
  },
  {
   "cell_type": "code",
   "execution_count": 6,
   "metadata": {},
   "outputs": [
    {
     "name": "stdout",
     "output_type": "stream",
     "text": [
      "Score comparison: \tBaseline\tModel with Positional Encoding\n",
      "attr_ids\n",
      "\tt_score\t\t0.99\t\t\t0.99\n",
      "\tv_score\t\t0.49\t\t\t0.43\n",
      "num_ids\n",
      "\tt_score\t\t0.73\t\t\t0.67\n",
      "\tv_score\t\t0.62\t\t\t0.6\n",
      "name_ids\n",
      "\tt_score\t\t0.93\t\t\t0.92\n",
      "\tv_score\t\t0.6\t\t\t0.56\n",
      "param_ids\n",
      "\tt_score\t\t0.92\t\t\t0.92\n",
      "\tv_score\t\t0.6\t\t\t0.59\n",
      "string_ids\n",
      "\tt_score\t\t0.87\t\t\t0.84\n",
      "\tv_score\t\t0.16\t\t\t0.13\n",
      "call_ids\n",
      "\tscore\t\t0.47\t\t\t0.45\n",
      "assign_ids\n",
      "\tscore\t\t0.57\t\t\t0.53\n",
      "return_ids\n",
      "\tscore\t\t0.63\t\t\t0.59\n",
      "list_ids\n",
      "\tscore\t\t0.31\t\t\t0.27\n",
      "dict_ids\n",
      "\tscore\t\t0.21\t\t\t0.19\n",
      "raise_ids\n",
      "\tscore\t\t0.81\t\t\t0.78\n"
     ]
    }
   ],
   "source": [
    "print(\"Score comparison: \\t{}\\t{}\".format(\"Baseline\", \"Model with Positional Encoding\"))\n",
    "for key in rq1[\"value_scores\"]:\n",
    "    print(\"{}\".format(key))\n",
    "    for key2 in rq1[\"value_scores\"][key]:\n",
    "        if key2 == \"label\":\n",
    "            continue\n",
    "        print(\"\\t{}\\t\\t{}\\t\\t\\t{}\".format(key2, rq1[\"value_scores\"][key][key2][-1], rq8[\"value_scores\"][key][key2][0]))\n",
    "for key in rq1[\"type_scores\"]:\n",
    "    print(\"{}\".format(key))\n",
    "    for key2 in rq1[\"type_scores\"][key]:\n",
    "        if key2 == \"label\":\n",
    "            continue\n",
    "        print(\"\\t{}\\t\\t{}\\t\\t\\t{}\".format(key2, rq1[\"type_scores\"][key][key2][-1], rq8[\"type_scores\"][key][key2][0]))"
   ]
  },
  {
   "cell_type": "code",
   "execution_count": null,
   "metadata": {},
   "outputs": [],
   "source": []
  }
 ],
 "metadata": {
  "kernelspec": {
   "display_name": "Python 3",
   "language": "python",
   "name": "python3"
  },
  "language_info": {
   "codemirror_mode": {
    "name": "ipython",
    "version": 3
   },
   "file_extension": ".py",
   "mimetype": "text/x-python",
   "name": "python",
   "nbconvert_exporter": "python",
   "pygments_lexer": "ipython3",
   "version": "3.8.5"
  }
 },
 "nbformat": 4,
 "nbformat_minor": 4
}
