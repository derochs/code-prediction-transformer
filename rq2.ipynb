{
 "cells": [
  {
   "cell_type": "markdown",
   "metadata": {},
   "source": [
    "# RQ2: Can TravTrans be improved by adjusting hyperparameters?"
   ]
  },
  {
   "cell_type": "markdown",
   "metadata": {},
   "source": [
    "## Training Time\n",
    "\n",
    "### Number of layers\n",
    "1 layer: 2:22h * 10\n",
    "\n",
    "3 layers: 2:54h * 10\n",
    "\n",
    "6 layers: 3:42h * 10\n",
    "\n",
    "9 layers: 4:27h * 10\n",
    "\n",
    "## Embedding size\n",
    "120 dimensions: 2:22h * 10\n",
    "\n",
    "240 dimensions: 3:11h * 10\n",
    "\n",
    "300 dimensions: 3:41h * 10\n",
    "\n",
    "540 dimensions: 5:48h * 10"
   ]
  },
  {
   "cell_type": "markdown",
   "metadata": {},
   "source": [
    "## Evaluation\n",
    "\n",
    "Models exist, run evaluate script on them"
   ]
  }
 ],
 "metadata": {
  "kernelspec": {
   "display_name": "Python 3",
   "language": "python",
   "name": "python3"
  },
  "language_info": {
   "codemirror_mode": {
    "name": "ipython",
    "version": 3
   },
   "file_extension": ".py",
   "mimetype": "text/x-python",
   "name": "python",
   "nbconvert_exporter": "python",
   "pygments_lexer": "ipython3",
   "version": "3.8.5"
  }
 },
 "nbformat": 4,
 "nbformat_minor": 4
}
