{
 "cells": [
  {
   "cell_type": "markdown",
   "metadata": {},
   "source": [
    "# Transformers for Code\n",
    "\n",
    "1. AST data comes from python150k dataset `python100k_training.json` and `python50k_eval.json`\n",
    "2. AST data is modified s.t. there are no nodes with type and value. If a node had a type and a value, the value was moved into a new child node. New AST data is stored in `output/new_trees.json`\n",
    "3. `output/new_trees.json` is sanitized with `generate_raw.py` that strips it from any JSON syntax and retains the nodes value/type data and stored in `output/new_trees_raw.txt`\n",
    "4. ~~A Huggingface Tokenizer `ByteLevelBPETokenizer` is trained on `output/new_trees_raw.txt` and stored in `tokenizer/`~~ For now I'll use a pretrained GPT2Tokenizer\n",
    "5. The new AST trees are traversed in pre-order sequence and split up into smaller chunks of size $n$, $n$ being 1,000 by default in `models/trav_trans/generate_data.py` and stored as `output/dps.txt`\n",
    "6. The splitted and sorted sequence will be converted in `convert.py` with the previously trained `ByteLevelBPETokenizer` and stored in `output/converted_train.txt`. The splitting function adds data that can determine if a tree was split or not. This allows us to mark every new tree with a special token `<ast>` that acts as a delimiter and tells our model that a new AST is about to be fed\n",
    "7. The same steps will be applied to the `python50k_eval.json` in order to receive a `output/converted_eval.txt` evaluation dataset\n"
   ]
  },
  {
   "cell_type": "markdown",
   "metadata": {},
   "source": [
    "## Dataset\n",
    "\n",
    "The Dataset contains lists of encoded AST nodes, the max lengths being $1001$, as trees were split up to $1000$ node subtrees. Eventually, a special token `<ast>` is prepended to the input, resulting in a total max length of $1001$.\n",
    "\n",
    "```\n",
    "Update: AST slices were reduced to max 255. Eventually adding the special token results in a maximum length of 256\n",
    "```"
   ]
  },
  {
   "cell_type": "code",
   "execution_count": 1,
   "metadata": {},
   "outputs": [],
   "source": [
    "import data\n",
    "\n",
    "cache_path = \"output/inputs.pkl\"\n",
    "\n",
    "code_dataset = data.CodeDataset() # Init Dataset object\n",
    "code_dataset.load_from_cache(cache_path) # Load previously cached pickled list instead of reading from file"
   ]
  },
  {
   "cell_type": "code",
   "execution_count": 2,
   "metadata": {},
   "outputs": [
    {
     "data": {
      "text/plain": [
       "255"
      ]
     },
     "execution_count": 2,
     "metadata": {},
     "output_type": "execute_result"
    }
   ],
   "source": [
    "len(code_dataset.__getitem__(519)) # 519 was known to be buggy and result in a larger size than 255"
   ]
  },
  {
   "cell_type": "markdown",
   "metadata": {},
   "source": [
    "## Tokenizer\n",
    "\n",
    "The Tokenizer was trained on the nodes contained in `py100k_train.json`. If a node contains a string including whitespaces, the whitespaces are replaced with a token `<spc>`, otherwise the tokenizer would tokenize the string into several sub-tokens due to splitting at whitespace. \n",
    "Finally, the trained Tokenizer is exported in `tokenizer/code-tokenizer.json`"
   ]
  },
  {
   "cell_type": "code",
   "execution_count": 3,
   "metadata": {},
   "outputs": [],
   "source": [
    "from transformers import PreTrainedTokenizerFast\n",
    "tokenizer = PreTrainedTokenizerFast(tokenizer_file = \"tokenizer/code-tokenizer.json\")"
   ]
  },
  {
   "cell_type": "code",
   "execution_count": 4,
   "metadata": {},
   "outputs": [
    {
     "data": {
      "text/plain": [
       "['<ast>']"
      ]
     },
     "execution_count": 4,
     "metadata": {},
     "output_type": "execute_result"
    }
   ],
   "source": [
    "tokenizer.pad_token = \"<pad>\"\n",
    "tokenizer.add_special_tokens({\"additional_special_tokens\": [\"<ast>\"]})\n",
    "tokenizer.additional_special_tokens"
   ]
  },
  {
   "cell_type": "markdown",
   "metadata": {},
   "source": [
    "Using the Tokenizer decoder will ignore special tokens i.e. `<unk>`. To make these tokens visible, the parameter `skip_special_tokens` has to be set to `False`."
   ]
  },
  {
   "cell_type": "markdown",
   "metadata": {},
   "source": [
    "## Trainer\n",
    "\n",
    "The `Trainer` class contains the training parameters and configurations."
   ]
  },
  {
   "cell_type": "code",
   "execution_count": 5,
   "metadata": {},
   "outputs": [],
   "source": [
    "from transformers import Trainer, TrainingArguments, DataCollatorForLanguageModeling, GPT2LMHeadModel, GPT2Config\n",
    "\n",
    "# Configs from facebookresearch/code-prediction-transformer with reduced context size due to GPU constraints\n",
    "configuration = GPT2Config(\n",
    "    n_positions = 256,\n",
    "    n_ctx = 256,\n",
    "    n_layers=6, \n",
    "    n_embd=300, \n",
    "    n_head=6, \n",
    "    layer_norm_epsilon=1e-6, \n",
    "    vocab_size=tokenizer.vocab_size)\n",
    "model = GPT2LMHeadModel(configuration)\n",
    "\n",
    "data_collator = DataCollatorForLanguageModeling(tokenizer = tokenizer, mlm = False)\n",
    "\n",
    "training_args = TrainingArguments(\n",
    "    output_dir = \"outputs/code-model\",\n",
    "    overwrite_output_dir = True,\n",
    "    num_train_epochs = 3,\n",
    "    per_device_train_batch_size = 6\n",
    ")\n",
    "\n",
    "trainer = Trainer(\n",
    "    model = model, \n",
    "    args = training_args,\n",
    "    data_collator = data_collator,\n",
    "    train_dataset = code_dataset\n",
    ")"
   ]
  },
  {
   "cell_type": "code",
   "execution_count": null,
   "metadata": {},
   "outputs": [
    {
     "data": {
      "text/html": [
       "\n",
       "    <div>\n",
       "        <style>\n",
       "            /* Turns off some styling */\n",
       "            progress {\n",
       "                /* gets rid of default border in Firefox and Opera. */\n",
       "                border: none;\n",
       "                /* Needs to be in here for Safari polyfill so background images work as expected. */\n",
       "                background-size: auto;\n",
       "            }\n",
       "        </style>\n",
       "      \n",
       "      <progress value='2653' max='214311' style='width:300px; height:20px; vertical-align: middle;'></progress>\n",
       "      [  2653/214311 05:35 < 7:26:26, 7.90 it/s, Epoch 0.04/3]\n",
       "    </div>\n",
       "    <table border=\"1\" class=\"dataframe\">\n",
       "  <thead>\n",
       "    <tr style=\"text-align: left;\">\n",
       "      <th>Step</th>\n",
       "      <th>Training Loss</th>\n",
       "    </tr>\n",
       "  </thead>\n",
       "  <tbody>\n",
       "    <tr>\n",
       "      <td>500</td>\n",
       "      <td>5.863400</td>\n",
       "    </tr>\n",
       "    <tr>\n",
       "      <td>1000</td>\n",
       "      <td>3.533800</td>\n",
       "    </tr>\n",
       "    <tr>\n",
       "      <td>1500</td>\n",
       "      <td>3.217300</td>\n",
       "    </tr>\n",
       "    <tr>\n",
       "      <td>2000</td>\n",
       "      <td>3.093300</td>\n",
       "    </tr>\n",
       "    <tr>\n",
       "      <td>2500</td>\n",
       "      <td>3.001600</td>\n",
       "    </tr>\n",
       "  </tbody>\n",
       "</table><p>"
      ],
      "text/plain": [
       "<IPython.core.display.HTML object>"
      ]
     },
     "metadata": {},
     "output_type": "display_data"
    }
   ],
   "source": [
    "import torch\n",
    "torch.cuda.empty_cache()\n",
    "\n",
    "trainer.train()\n",
    "trainer.save_model()"
   ]
  }
 ],
 "metadata": {
  "kernelspec": {
   "display_name": "Python 3",
   "language": "python",
   "name": "python3"
  },
  "language_info": {
   "codemirror_mode": {
    "name": "ipython",
    "version": 3
   },
   "file_extension": ".py",
   "mimetype": "text/x-python",
   "name": "python",
   "nbconvert_exporter": "python",
   "pygments_lexer": "ipython3",
   "version": "3.8.5"
  }
 },
 "nbformat": 4,
 "nbformat_minor": 4
}
