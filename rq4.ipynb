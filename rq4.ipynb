{
 "cells": [
  {
   "cell_type": "markdown",
   "metadata": {},
   "source": [
    "# RQ4: Replace Tokenizer"
   ]
  },
  {
   "cell_type": "markdown",
   "metadata": {},
   "source": [
    "## Prepare Dataset\n",
    "\n",
    "Usually, the default WordLevel tokenizer treats each node value as token. The dataset has to be prepared such that the tokenizer can identify between tokens. Therefore, a Pre-Tokenizer can be used which splits up text into words. The final tokens will be parts of those words. As a delimiter, `,` is selected. This means that every `,` has to be removed from strings."
   ]
  },
  {
   "cell_type": "code",
   "execution_count": 2,
   "metadata": {},
   "outputs": [],
   "source": [
    "import json\n",
    "from tqdm import tqdm\n",
    "\n",
    "# Clean up raw py150 dataset by removing \",\" character\n",
    "\n",
    "if False:\n",
    "    with open(\"data/python150k.json\") as fin, open(\"data/python150k_rq4.json\", \"w\") as fout:\n",
    "        for i, line in enumerate(tqdm(fin)):\n",
    "            dp = json.loads(line.strip())\n",
    "            for j, d in enumerate(dp):\n",
    "                if \"value\" in d:\n",
    "                    if \",\" in d[\"value\"]:\n",
    "                        d[\"value\"].replace(\",\", \" \")\n",
    "            print(json.dumps(dp), file=fout)\n",
    "    \n",
    "    with open(\"data/python150k_rq4.json\") as fin:\n",
    "        for line in tqdm(fin):\n",
    "            dp = json.loads(line.strip())\n",
    "            for d in enumerate(dp):\n",
    "                if \"value\" in d:\n",
    "                    if \",\" in d[\"value\"]:\n",
    "                        print('Not cleaned up')\n"
   ]
  },
  {
   "cell_type": "code",
   "execution_count": 4,
   "metadata": {},
   "outputs": [],
   "source": [
    "if False:\n",
    "    with open(\"output/test_new_trees.json\") as fin, open(\"output/test_raw.json\", \"w\") as fout:\n",
    "        for i, line in enumerate(tqdm(fin)):\n",
    "            dp = json.loads(line)\n",
    "            raw = \",\".join([d[\"value\"] for d in dp if \"value\" in d])\n",
    "            print(json.dumps(raw), file=fout)"
   ]
  },
  {
   "cell_type": "markdown",
   "metadata": {},
   "source": [
    "## Train Tokenizer"
   ]
  },
  {
   "cell_type": "code",
   "execution_count": 2,
   "metadata": {},
   "outputs": [],
   "source": [
    "from tokenizers import Tokenizer\n",
    "from tokenizers.models import WordPiece\n",
    "from tokenizers.trainers import WordPieceTrainer\n",
    "from tokenizers.pre_tokenizers import CharDelimiterSplit\n",
    "\n",
    "tokenizer = Tokenizer(WordPiece(unk_token=\"[UNK]\"))\n",
    "tokenizer.pre_tokenizer = CharDelimiterSplit(delimiter=\",\")\n",
    "trainer = WordPieceTrainer(special_tokens=[\"[UNK]\", \"[PAD]\"])\n",
    "\n",
    "# tokenizer.train([\"output/train_raw.json\"], trainer)\n",
    "\n",
    "# tokenizer.save(\"output/tokenizer.json\")\n"
   ]
  },
  {
   "cell_type": "markdown",
   "metadata": {},
   "source": [
    "## Test Tokenizer"
   ]
  },
  {
   "cell_type": "code",
   "execution_count": 9,
   "metadata": {},
   "outputs": [
    {
     "name": "stdout",
     "output_type": "stream",
     "text": [
      "[1404, 109, 21495, 3980, 819, 5089, 144, 17913, 267, 3348, 12577, 9618, 21341]\n",
      "1404: Th\n",
      "109: ##e\n",
      "21495: quick\n",
      "3980: br\n",
      "819: ##own\n",
      "5089: fo\n",
      "144: ##x\n",
      "17913: jump\n",
      "267: ##ed\n",
      "3348: over\n",
      "12577: the\n",
      "9618: lazy\n",
      "21341: dog\n",
      "30000\n",
      "Str\n"
     ]
    }
   ],
   "source": [
    "tokenizer = Tokenizer.from_file(\"output/tokenizer.json\")\n",
    "encoding = tokenizer.encode(\"The,quick,brown,fox,jumped,over,the,lazy,dog\").ids\n",
    "print(encoding)\n",
    "for e in encoding:\n",
    "    print(\"{}: {}\".format(e, tokenizer.decode([e])))\n",
    "print(tokenizer.get_vocab_size())\n",
    "print(tokenizer.decode([214]))"
   ]
  },
  {
   "cell_type": "markdown",
   "metadata": {},
   "source": [
    "## New Tokenizer\n",
    "\n",
    "Using the ``new_trees.json`` trees, iterate through each tree individually\n",
    "Tokenize each ``type`` or ``value`` and count the resulting tokens up until ``max_len`` and split there\n",
    "Combine with ``get_dfs`` to receive a custom ``dps.txt`` file"
   ]
  }
 ],
 "metadata": {
  "kernelspec": {
   "display_name": "Python 3",
   "language": "python",
   "name": "python3"
  },
  "language_info": {
   "codemirror_mode": {
    "name": "ipython",
    "version": 3
   },
   "file_extension": ".py",
   "mimetype": "text/x-python",
   "name": "python",
   "nbconvert_exporter": "python",
   "pygments_lexer": "ipython3",
   "version": "3.8.5"
  }
 },
 "nbformat": 4,
 "nbformat_minor": 4
}
