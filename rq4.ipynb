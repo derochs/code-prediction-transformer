{
 "cells": [
  {
   "cell_type": "markdown",
   "metadata": {},
   "source": [
    "# RQ4: Replace Tokenizer"
   ]
  },
  {
   "cell_type": "markdown",
   "metadata": {},
   "source": [
    "- Model was trained and evaluated\n",
    "- Compare with RQ1\n",
    "- Find out how long training took"
   ]
  },
  {
   "cell_type": "code",
   "execution_count": 1,
   "metadata": {},
   "outputs": [],
   "source": [
    "value_scores = {\n",
    "    \"attr_ids\": {\n",
    "        \"t_score\": [0.96],\n",
    "        \"v_score\": [0.54]\n",
    "    },\n",
    "    \"num_ids\": {\n",
    "        \"t_score\": [0.72],\n",
    "        \"v_score\": [0.59]\n",
    "    },\n",
    "    \"name_ids\": {\n",
    "        \"t_score\": [0.9],\n",
    "        \"v_score\": [0.64]\n",
    "    },\n",
    "    \"param_ids\": {\n",
    "        \"t_score\": [0.89],\n",
    "        \"v_score\": [0.6]\n",
    "    },\n",
    "    \"string_ids\": {\n",
    "        \"t_score\": [0.81],\n",
    "        \"v_score\": [0.32]\n",
    "    }\n",
    "}\n",
    "type_scores = {\n",
    "    \"call_ids\": [0.78],\n",
    "    \"assign_ids\": [0.69],\n",
    "    \"return_ids\": [0.37],\n",
    "    \"list_ids\": [0.37],\n",
    "    \"dict_ids\": [0.003],\n",
    "    \"raise_ids\": [0.36]\n",
    "}"
   ]
  }
 ],
 "metadata": {
  "kernelspec": {
   "display_name": "Python 3",
   "language": "python",
   "name": "python3"
  },
  "language_info": {
   "codemirror_mode": {
    "name": "ipython",
    "version": 3
   },
   "file_extension": ".py",
   "mimetype": "text/x-python",
   "name": "python",
   "nbconvert_exporter": "python",
   "pygments_lexer": "ipython3",
   "version": "3.8.5"
  }
 },
 "nbformat": 4,
 "nbformat_minor": 4
}
