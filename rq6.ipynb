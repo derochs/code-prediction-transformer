{
 "cells": [
  {
   "cell_type": "markdown",
   "source": [
    "# RQ6: Which impact do sliding window size and overlap size have on model performance?\r\n",
    "\r\n",
    "Overlap sizes:\r\n",
    "- 10% \r\n",
    "- 25% --> Currently training model\r\n",
    "- 50% (default)\r\n",
    "- 70% (1/1.4)\r\n",
    "- 90% (1/1.1)\r\n",
    "\r\n",
    "## Model training times\r\n",
    "\r\n",
    "## Model evaluation\r\n",
    "\r\n",
    "## Comparison with RQ1"
   ],
   "metadata": {}
  }
 ],
 "metadata": {
  "kernelspec": {
   "display_name": "Python 3",
   "language": "python",
   "name": "python3"
  },
  "language_info": {
   "codemirror_mode": {
    "name": "ipython",
    "version": 3
   },
   "file_extension": ".py",
   "mimetype": "text/x-python",
   "name": "python",
   "nbconvert_exporter": "python",
   "pygments_lexer": "ipython3",
   "version": "3.8.5"
  }
 },
 "nbformat": 4,
 "nbformat_minor": 4
}